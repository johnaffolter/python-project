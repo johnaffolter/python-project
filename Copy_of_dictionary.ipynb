{
  "nbformat": 4,
  "nbformat_minor": 5,
  "metadata": {
    "kernelspec": {
      "display_name": "Python 3 (ipykernel)",
      "language": "python",
      "name": "python3"
    },
    "language_info": {
      "codemirror_mode": {
        "name": "ipython",
        "version": 3
      },
      "file_extension": ".py",
      "mimetype": "text/x-python",
      "name": "python",
      "nbconvert_exporter": "python",
      "pygments_lexer": "ipython3",
      "version": "3.8.10"
    },
    "toc": {
      "base_numbering": 1,
      "nav_menu": {},
      "number_sections": true,
      "sideBar": true,
      "skip_h1_title": false,
      "title_cell": "Table of Contents",
      "title_sidebar": "Contents",
      "toc_cell": false,
      "toc_position": {},
      "toc_section_display": true,
      "toc_window_display": false
    },
    "colab": {
      "name": "Copy of dictionary.ipynb",
      "provenance": [],
      "include_colab_link": true
    }
  },
  "cells": [
    {
      "cell_type": "markdown",
      "metadata": {
        "id": "view-in-github",
        "colab_type": "text"
      },
      "source": [
        "<a href=\"https://colab.research.google.com/github/johnaffolter/python-project/blob/master/Copy_of_dictionary.ipynb\" target=\"_parent\"><img src=\"https://colab.research.google.com/assets/colab-badge.svg\" alt=\"Open In Colab\"/></a>"
      ]
    },
    {
      "cell_type": "markdown",
      "metadata": {
        "id": "95c266c1"
      },
      "source": [
        "## Dictionary"
      ],
      "id": "95c266c1"
    },
    {
      "cell_type": "markdown",
      "metadata": {
        "id": "73d2dd40"
      },
      "source": [
        "### Update: Update a Dictionary With Items From Another Dictionary"
      ],
      "id": "73d2dd40"
    },
    {
      "cell_type": "markdown",
      "metadata": {
        "id": "65b36f96"
      },
      "source": [
        "If you want to update a dictionary with items from another dictionary or from an iterable of key/value pairs, use the `update` method."
      ],
      "id": "65b36f96"
    },
    {
      "cell_type": "code",
      "metadata": {
        "ExecuteTime": {
          "end_time": "2021-10-28T13:24:30.938584Z",
          "start_time": "2021-10-28T13:24:30.931389Z"
        },
        "id": "20f0ee93"
      },
      "source": [
        "birth_year = {\"Ben\": 1997}\n",
        "new_birth_year = {\"Michael\": 1993, 'Lauren': 1999}\n",
        "birth_year.update(new_birth_year)"
      ],
      "id": "20f0ee93",
      "execution_count": null,
      "outputs": []
    },
    {
      "cell_type": "code",
      "metadata": {
        "ExecuteTime": {
          "end_time": "2021-10-28T13:24:31.726424Z",
          "start_time": "2021-10-28T13:24:31.720888Z"
        },
        "id": "b4198da1"
      },
      "source": [
        "birth_year.update(Josh=1990, Olivia=1991)"
      ],
      "id": "b4198da1",
      "execution_count": null,
      "outputs": []
    },
    {
      "cell_type": "code",
      "metadata": {
        "ExecuteTime": {
          "end_time": "2021-10-28T13:24:32.425688Z",
          "start_time": "2021-10-28T13:24:32.422848Z"
        },
        "id": "be1cfb6f",
        "outputId": "fdff7322-2f38-48ce-af2b-39dd9dc290a8"
      },
      "source": [
        "birth_year "
      ],
      "id": "be1cfb6f",
      "execution_count": null,
      "outputs": [
        {
          "data": {
            "text/plain": [
              "{'Ben': 1997, 'Michael': 1993, 'Lauren': 1999, 'Josh': 1990, 'Olivia': 1991}"
            ]
          },
          "execution_count": 22,
          "metadata": {},
          "output_type": "execute_result"
        }
      ]
    },
    {
      "cell_type": "markdown",
      "metadata": {
        "id": "0a547324"
      },
      "source": [
        "### Key Parameter in Max(): Find the Key with the Largest Value"
      ],
      "id": "0a547324"
    },
    {
      "cell_type": "markdown",
      "metadata": {
        "id": "e1d8987b"
      },
      "source": [
        "Apply max on a Python dictionary will give you the largest key, not the key with the largest value. If you want to find the key with the largest value, specify that using the `key` parameter in the `max` method."
      ],
      "id": "e1d8987b"
    },
    {
      "cell_type": "code",
      "metadata": {
        "ExecuteTime": {
          "end_time": "2021-09-12T15:20:27.105287Z",
          "start_time": "2021-09-12T15:20:27.069136Z"
        },
        "id": "f945ab42",
        "outputId": "176adb4b-5906-4b94-fa95-54da464b6548"
      },
      "source": [
        "birth_year = {\"Ben\": 1997, \"Alex\": 2000, \"Oliver\": 1995}\n",
        "\n",
        "max(birth_year)"
      ],
      "id": "f945ab42",
      "execution_count": null,
      "outputs": [
        {
          "data": {
            "text/plain": [
              "'Oliver'"
            ]
          },
          "execution_count": 1,
          "metadata": {},
          "output_type": "execute_result"
        }
      ]
    },
    {
      "cell_type": "code",
      "metadata": {
        "ExecuteTime": {
          "end_time": "2021-09-12T15:20:27.603741Z",
          "start_time": "2021-09-12T15:20:27.594347Z"
        },
        "scrolled": true,
        "id": "f34f50ab",
        "outputId": "a5a6a0b2-e6b6-43b7-e577-e9814c8541fd"
      },
      "source": [
        "max_val = max(birth_year, key=lambda k: birth_year[k])\n",
        "max_val"
      ],
      "id": "f34f50ab",
      "execution_count": null,
      "outputs": [
        {
          "data": {
            "text/plain": [
              "'Alex'"
            ]
          },
          "execution_count": 2,
          "metadata": {},
          "output_type": "execute_result"
        }
      ]
    },
    {
      "cell_type": "markdown",
      "metadata": {
        "id": "5caf1b3f"
      },
      "source": [
        "### dict.get: Get the Default Value of a Dictionary if a Key Doesn't Exist"
      ],
      "id": "5caf1b3f"
    },
    {
      "cell_type": "markdown",
      "metadata": {
        "id": "c2dd1725"
      },
      "source": [
        "If you want to get the default value when a key doesn't exist in a dictionary, use `dict.get`. In the code below, since there is no key `meeting3`, the default value `online` is returned. "
      ],
      "id": "c2dd1725"
    },
    {
      "cell_type": "code",
      "metadata": {
        "ExecuteTime": {
          "end_time": "2021-09-30T12:49:56.062960Z",
          "start_time": "2021-09-30T12:49:56.056983Z"
        },
        "id": "e066cd73"
      },
      "source": [
        "locations = {'meeting1': 'room1', 'meeting2': 'room2'}"
      ],
      "id": "e066cd73",
      "execution_count": null,
      "outputs": []
    },
    {
      "cell_type": "code",
      "metadata": {
        "ExecuteTime": {
          "end_time": "2021-09-30T12:49:59.099210Z",
          "start_time": "2021-09-30T12:49:59.090362Z"
        },
        "scrolled": true,
        "id": "d07fcf3e",
        "outputId": "f47fe941-0a44-4cf5-a720-0801cb4f1053"
      },
      "source": [
        "locations.get('meeting1', 'online')"
      ],
      "id": "d07fcf3e",
      "execution_count": null,
      "outputs": [
        {
          "data": {
            "text/plain": [
              "'room1'"
            ]
          },
          "execution_count": 6,
          "metadata": {},
          "output_type": "execute_result"
        }
      ]
    },
    {
      "cell_type": "code",
      "metadata": {
        "ExecuteTime": {
          "end_time": "2021-09-30T12:49:46.738598Z",
          "start_time": "2021-09-30T12:49:46.729582Z"
        },
        "id": "6de353f4",
        "outputId": "4e5d4cfc-40df-4163-9fea-8b42710ba82e"
      },
      "source": [
        "locations.get('meeting3', 'online')"
      ],
      "id": "6de353f4",
      "execution_count": null,
      "outputs": [
        {
          "data": {
            "text/plain": [
              "'online'"
            ]
          },
          "execution_count": 3,
          "metadata": {},
          "output_type": "execute_result"
        }
      ]
    },
    {
      "cell_type": "markdown",
      "metadata": {
        "id": "c500037a"
      },
      "source": [
        "### Double dict.get: Get Values in a Nested Dictionary with Missing Keys"
      ],
      "id": "c500037a"
    },
    {
      "cell_type": "markdown",
      "metadata": {
        "ExecuteTime": {
          "end_time": "2021-10-14T13:10:57.149250Z",
          "start_time": "2021-10-14T13:10:57.132853Z"
        },
        "id": "7838c213"
      },
      "source": [
        "It can be challenging to get values in a nested dictionary with missing keys. "
      ],
      "id": "7838c213"
    },
    {
      "cell_type": "code",
      "metadata": {
        "ExecuteTime": {
          "end_time": "2021-10-14T13:19:58.125108Z",
          "start_time": "2021-10-14T13:19:58.098374Z"
        },
        "id": "0d974df2",
        "outputId": "5185a7ae-0cf1-4f1b-b54f-42311c26a0f7"
      },
      "source": [
        "fruits = [\n",
        "    {\"name\": \"apple\", \"attr\": {\"color\": \"red\", \"taste\": \"sweet\"}},\n",
        "    {\"name\": \"orange\", \"attr\": {\"taste\": \"sour\"}},\n",
        "    {\"name\": \"grape\", \"attr\": {\"color\": \"purple\"}},\n",
        "    {\"name\": \"banana\"},\n",
        "]"
      ],
      "id": "0d974df2",
      "execution_count": null,
      "outputs": [
        {
          "data": {
            "application/javascript": [
              "\n",
              "            setTimeout(function() {\n",
              "                var nbb_cell_id = 23;\n",
              "                var nbb_unformatted_code = \"fruits = [\\n    {\\\"name\\\": \\\"apple\\\", \\\"attr\\\": {\\\"color\\\": \\\"red\\\", \\\"taste\\\": \\\"sweet\\\"}},\\n    {\\\"name\\\": \\\"orange\\\", \\\"attr\\\": {\\\"taste\\\": \\\"sour\\\"}},\\n    {\\\"name\\\": \\\"grape\\\", \\\"attr\\\": {\\\"color\\\": \\\"purple\\\"}},\\n    {\\\"name\\\": \\\"banana\\\"},\\n]\";\n",
              "                var nbb_formatted_code = \"fruits = [\\n    {\\\"name\\\": \\\"apple\\\", \\\"attr\\\": {\\\"color\\\": \\\"red\\\", \\\"taste\\\": \\\"sweet\\\"}},\\n    {\\\"name\\\": \\\"orange\\\", \\\"attr\\\": {\\\"taste\\\": \\\"sour\\\"}},\\n    {\\\"name\\\": \\\"grape\\\", \\\"attr\\\": {\\\"color\\\": \\\"purple\\\"}},\\n    {\\\"name\\\": \\\"banana\\\"},\\n]\";\n",
              "                var nbb_cells = Jupyter.notebook.get_cells();\n",
              "                for (var i = 0; i < nbb_cells.length; ++i) {\n",
              "                    if (nbb_cells[i].input_prompt_number == nbb_cell_id) {\n",
              "                        if (nbb_cells[i].get_text() == nbb_unformatted_code) {\n",
              "                             nbb_cells[i].set_text(nbb_formatted_code);\n",
              "                        }\n",
              "                        break;\n",
              "                    }\n",
              "                }\n",
              "            }, 500);\n",
              "            "
            ],
            "text/plain": [
              "<IPython.core.display.Javascript object>"
            ]
          },
          "metadata": {},
          "output_type": "display_data"
        }
      ]
    },
    {
      "cell_type": "markdown",
      "metadata": {
        "id": "276f40da"
      },
      "source": [
        "You can use an if-else statement but it is long and hard to read. "
      ],
      "id": "276f40da"
    },
    {
      "cell_type": "code",
      "metadata": {
        "ExecuteTime": {
          "end_time": "2021-10-14T14:32:09.841469Z",
          "start_time": "2021-10-14T14:32:09.813291Z"
        },
        "id": "abe69573",
        "outputId": "069a4567-19d5-4c80-d0bf-afdc70f827e7"
      },
      "source": [
        "colors = [\n",
        "    fruit[\"attr\"][\"color\"]\n",
        "    if \"attr\" in fruit and \"color\" in fruit[\"attr\"]\n",
        "    else \"unknown\"\n",
        "    for fruit in fruits\n",
        "]\n",
        "colors"
      ],
      "id": "abe69573",
      "execution_count": null,
      "outputs": [
        {
          "data": {
            "text/plain": [
              "['red', 'unknown', 'purple', 'unknown']"
            ]
          },
          "execution_count": 29,
          "metadata": {},
          "output_type": "execute_result"
        },
        {
          "data": {
            "application/javascript": [
              "\n",
              "            setTimeout(function() {\n",
              "                var nbb_cell_id = 29;\n",
              "                var nbb_unformatted_code = \"colors = [\\n    fruit[\\\"attr\\\"][\\\"color\\\"]\\n    if \\\"attr\\\" in fruit and \\\"color\\\" in fruit[\\\"attr\\\"]\\n    else \\\"unknown\\\"\\n    for fruit in fruits\\n]\\ncolors\";\n",
              "                var nbb_formatted_code = \"colors = [\\n    fruit[\\\"attr\\\"][\\\"color\\\"]\\n    if \\\"attr\\\" in fruit and \\\"color\\\" in fruit[\\\"attr\\\"]\\n    else \\\"unknown\\\"\\n    for fruit in fruits\\n]\\ncolors\";\n",
              "                var nbb_cells = Jupyter.notebook.get_cells();\n",
              "                for (var i = 0; i < nbb_cells.length; ++i) {\n",
              "                    if (nbb_cells[i].input_prompt_number == nbb_cell_id) {\n",
              "                        if (nbb_cells[i].get_text() == nbb_unformatted_code) {\n",
              "                             nbb_cells[i].set_text(nbb_formatted_code);\n",
              "                        }\n",
              "                        break;\n",
              "                    }\n",
              "                }\n",
              "            }, 500);\n",
              "            "
            ],
            "text/plain": [
              "<IPython.core.display.Javascript object>"
            ]
          },
          "metadata": {},
          "output_type": "display_data"
        }
      ]
    },
    {
      "cell_type": "markdown",
      "metadata": {
        "id": "578c4f72"
      },
      "source": [
        "A better way is to use the `get` method twice like below. The first `get` method will return an empty dictionary if the key `attr` doesn't exist. The second `get` method will return `unknown` if the key `color` doesn't exist"
      ],
      "id": "578c4f72"
    },
    {
      "cell_type": "code",
      "metadata": {
        "ExecuteTime": {
          "end_time": "2021-10-14T14:32:15.211058Z",
          "start_time": "2021-10-14T14:32:15.187018Z"
        },
        "id": "64299cbd",
        "outputId": "078b5b35-df78-45c7-d17c-136cf6470ab6"
      },
      "source": [
        "colors = [fruit.get(\"attr\", {}).get(\"color\", \"unknown\") for fruit in fruits]\n",
        "colors"
      ],
      "id": "64299cbd",
      "execution_count": null,
      "outputs": [
        {
          "data": {
            "text/plain": [
              "['red', 'unknown', 'purple', 'unknown']"
            ]
          },
          "execution_count": 30,
          "metadata": {},
          "output_type": "execute_result"
        },
        {
          "data": {
            "application/javascript": [
              "\n",
              "            setTimeout(function() {\n",
              "                var nbb_cell_id = 30;\n",
              "                var nbb_unformatted_code = \"colors = [fruit.get(\\\"attr\\\", {}).get(\\\"color\\\", \\\"unknown\\\") for fruit in fruits]\\ncolors\";\n",
              "                var nbb_formatted_code = \"colors = [fruit.get(\\\"attr\\\", {}).get(\\\"color\\\", \\\"unknown\\\") for fruit in fruits]\\ncolors\";\n",
              "                var nbb_cells = Jupyter.notebook.get_cells();\n",
              "                for (var i = 0; i < nbb_cells.length; ++i) {\n",
              "                    if (nbb_cells[i].input_prompt_number == nbb_cell_id) {\n",
              "                        if (nbb_cells[i].get_text() == nbb_unformatted_code) {\n",
              "                             nbb_cells[i].set_text(nbb_formatted_code);\n",
              "                        }\n",
              "                        break;\n",
              "                    }\n",
              "                }\n",
              "            }, 500);\n",
              "            "
            ],
            "text/plain": [
              "<IPython.core.display.Javascript object>"
            ]
          },
          "metadata": {},
          "output_type": "display_data"
        }
      ]
    },
    {
      "cell_type": "markdown",
      "metadata": {
        "id": "80c62cf2"
      },
      "source": [
        "### dict.fromkeys: Get a Dictionary From a List and a Value"
      ],
      "id": "80c62cf2"
    },
    {
      "cell_type": "markdown",
      "metadata": {
        "id": "f212be67"
      },
      "source": [
        "If you want to get a dictionary from a list and a value, try `dict.fromkeys.` "
      ],
      "id": "f212be67"
    },
    {
      "cell_type": "code",
      "metadata": {
        "ExecuteTime": {
          "end_time": "2021-09-21T13:10:03.386464Z",
          "start_time": "2021-09-21T13:10:03.379333Z"
        },
        "id": "2041e23e"
      },
      "source": [
        "furnitures = ['bed', 'table', 'chair']\n",
        "food = ['apple', 'pepper', 'onion']\n",
        "loc1 = 'IKEA'\n",
        "loc2 = 'ALDI'"
      ],
      "id": "2041e23e",
      "execution_count": null,
      "outputs": []
    },
    {
      "cell_type": "markdown",
      "metadata": {
        "id": "4cd4c6bb"
      },
      "source": [
        "For example, we can use `dict.fromkeys` to create a dictionary of furnitures' locations:"
      ],
      "id": "4cd4c6bb"
    },
    {
      "cell_type": "code",
      "metadata": {
        "ExecuteTime": {
          "end_time": "2021-09-21T13:15:25.825963Z",
          "start_time": "2021-09-21T13:15:25.818634Z"
        },
        "scrolled": true,
        "id": "daee57cc",
        "outputId": "2e785113-1ed8-4c4a-d317-1db5c0bf7d0c"
      },
      "source": [
        "furniture_loc = dict.fromkeys(furnitures, loc1)\n",
        "furniture_loc"
      ],
      "id": "daee57cc",
      "execution_count": null,
      "outputs": [
        {
          "data": {
            "text/plain": [
              "{'bed': 'IKEA', 'table': 'IKEA', 'chair': 'IKEA'}"
            ]
          },
          "execution_count": 20,
          "metadata": {},
          "output_type": "execute_result"
        }
      ]
    },
    {
      "cell_type": "markdown",
      "metadata": {
        "id": "24f9cb97"
      },
      "source": [
        "... or create a dictionary of food's locations:"
      ],
      "id": "24f9cb97"
    },
    {
      "cell_type": "code",
      "metadata": {
        "ExecuteTime": {
          "end_time": "2021-09-21T13:10:03.874224Z",
          "start_time": "2021-09-21T13:10:03.864185Z"
        },
        "id": "be4ef185",
        "outputId": "ce458ad0-6ed9-449b-c918-1f9170ed8d4b"
      },
      "source": [
        "food_loc = dict.fromkeys(food, loc2)\n",
        "food_loc"
      ],
      "id": "be4ef185",
      "execution_count": null,
      "outputs": [
        {
          "data": {
            "text/plain": [
              "{'apple': 'ALDI', 'pepper': 'ALDI', 'onion': 'ALDI'}"
            ]
          },
          "execution_count": 18,
          "metadata": {},
          "output_type": "execute_result"
        }
      ]
    },
    {
      "cell_type": "markdown",
      "metadata": {
        "id": "8ced474e"
      },
      "source": [
        "These 2 results can be combined into a location dictionary like below:"
      ],
      "id": "8ced474e"
    },
    {
      "cell_type": "code",
      "metadata": {
        "ExecuteTime": {
          "end_time": "2021-09-21T13:15:31.942695Z",
          "start_time": "2021-09-21T13:15:31.934286Z"
        },
        "id": "4e19d2e0",
        "outputId": "5178e00a-a1a6-41c9-ea75-c09110975759"
      },
      "source": [
        "locations = {**food_loc, **furniture_loc}\n",
        "locations"
      ],
      "id": "4e19d2e0",
      "execution_count": null,
      "outputs": [
        {
          "data": {
            "text/plain": [
              "{'apple': 'ALDI',\n",
              " 'pepper': 'ALDI',\n",
              " 'onion': 'ALDI',\n",
              " 'bed': 'IKEA',\n",
              " 'table': 'IKEA',\n",
              " 'chair': 'IKEA'}"
            ]
          },
          "execution_count": 21,
          "metadata": {},
          "output_type": "execute_result"
        }
      ]
    }
  ]
}